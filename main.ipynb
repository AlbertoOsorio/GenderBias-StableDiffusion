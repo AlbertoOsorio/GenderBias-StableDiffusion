{
  "cells": [
    {
      "cell_type": "code",
      "execution_count": null,
      "metadata": {
        "id": "P8TV3xf7cmVL"
      },
      "outputs": [],
      "source": [
        "!pip install --upgrade git+https://github.com/huggingface/diffusers.git transformers accelerate scipy xformers gradio -q\n",
        "!pip install huggingface_hub\n",
        "!pip install -qq diffusers[\"torch\"] transformers\n",
        "!pip install -qq \"ipywidgets>=7,<8\"\n",
        "!pip install -U insightface\n",
        "!pip install onnxruntime-gpu"
      ]
    },
    {
      "cell_type": "code",
      "execution_count": null,
      "metadata": {
        "id": "ibF3gSvvcrKX"
      },
      "outputs": [],
      "source": [
        "from google.colab import drive\n",
        "from diffusers import StableDiffusionPipeline, EulerDiscreteScheduler, EulerAncestralDiscreteScheduler\n",
        "import torch\n",
        "import cv2\n",
        "import numpy as np\n",
        "import pandas as pd\n",
        "from google.colab import drive\n",
        "from google.colab.patches import cv2_imshow\n",
        "import insightface\n",
        "from insightface.app import FaceAnalysis\n",
        "from insightface.data import get_image as ins_get_image\n",
        "from matplotlib import pyplot as plt\n",
        "from PIL import Image\n",
        "import os\n",
        "from transformers import CLIPTextModel, CLIPTokenizer\n",
        "from huggingface_hub import notebook_login, hf_hub_url\n",
        "import requests"
      ]
    },
    {
      "cell_type": "code",
      "execution_count": null,
      "metadata": {
        "id": "Tm7ABbWbqKsU"
      },
      "outputs": [],
      "source": [
        "!huggingface-cli login\n",
        "drive.mount('/content/drive')"
      ]
    },
    {
      "cell_type": "code",
      "execution_count": null,
      "metadata": {
        "id": "WpSqlgUeyuPm"
      },
      "outputs": [],
      "source": [
        "model_pack_name = 'buffalo_l'\n",
        "app = FaceAnalysis(name=model_pack_name)\n",
        "app.prepare(ctx_id=0, det_size=(640,640))"
      ]
    },
    {
      "cell_type": "code",
      "source": [
        "token_url=hf_hub_url(repo_id=\"minimaxir/wrong_embedding_sd_2_0\",\n",
        "                     filename=\"learned_embeds.bin\")\n",
        "r = requests.get(token_url, allow_redirects=True)\n",
        "open('wrong.bin', 'wb').write(r.content)"
      ],
      "metadata": {
        "id": "Zbxy1mYxw6Hu"
      },
      "execution_count": null,
      "outputs": []
    },
    {
      "cell_type": "code",
      "execution_count": 17,
      "metadata": {
        "id": "Yg2tjoqCc1Fg"
      },
      "outputs": [],
      "source": [
        "def txt2img(prompt, negative, sd1path, sd2path):\n",
        "  print(prompt)\n",
        "  image = pipe(prompt,\n",
        "                 height=640, \n",
        "                 width=640, \n",
        "                 guidance_scale = 10).images[0]\n",
        "  image.save(sd1path)\n",
        "  with torch.autocast(\"cuda\"):  \n",
        "    image_2 = pipe_2(prompt,\n",
        "                     negative_prompt=negative_prompt,\n",
        "                     height=640,\n",
        "                     width=640,\n",
        "                     guidance_scale=10).images[0]\n",
        "    image_2.save(sd2path)\n",
        "\n",
        "def im_gender_infer(imPath, gender):\n",
        "  im = cv2.imread(imPath)\n",
        "  cv2_imshow(im)\n",
        "  faces = app.get(im)\n",
        "  if faces == []:\n",
        "    gender.append(0)\n",
        "  else:\n",
        "    for face in faces:\n",
        "        gender.append(face.sex)\n",
        "  print(gender)\n",
        "  return gender"
      ]
    },
    {
      "cell_type": "code",
      "source": [
        "def load_learned_embed_in_clip(learned_embeds_path, text_encoder, tokenizer, token=None):\n",
        "  loaded_learned_embeds = torch.load(learned_embeds_path, map_location=\"cpu\")\n",
        "  trained_token = list(loaded_learned_embeds.keys())[0]\n",
        "  embeds = loaded_learned_embeds[trained_token]\n",
        "  dtype = text_encoder.get_input_embeddings().weight.dtype\n",
        "  embeds.to(dtype)\n",
        "\n",
        "  token = token if token is not None else trained_token\n",
        "  num_added_tokens = tokenizer.add_tokens(token)\n",
        "  if num_added_tokens == 0:\n",
        "    raise ValueError(f\"The tokenizer already contains the token {token}. Please pass a different `token` that is not already in the tokenizer.\")\n",
        "  text_encoder.resize_token_embeddings(len(tokenizer))\n",
        "  \n",
        "  token_id = tokenizer.convert_tokens_to_ids(token)\n",
        "  text_encoder.get_input_embeddings().weight.data[token_id] = embeds"
      ],
      "metadata": {
        "id": "koJNIQPszKIN"
      },
      "execution_count": 7,
      "outputs": []
    },
    {
      "cell_type": "code",
      "source": [
        "model_id_1 = \"runwayml/stable-diffusion-v1-5\"\n",
        "model_id_2 = \"stabilityai/stable-diffusion-2-base\" \n",
        "\n",
        "tokenizer = CLIPTokenizer.from_pretrained(\n",
        "    model_id_2,\n",
        "    subfolder=\"tokenizer\",\n",
        "    use_auth_token=True,\n",
        ")\n",
        "text_encoder = CLIPTextModel.from_pretrained(\n",
        "    model_id_2, subfolder=\"text_encoder\", use_auth_token=True\n",
        ")\n",
        "\n",
        "vocab_size = tokenizer.vocab_size\n",
        "\n",
        "embed_paths = [\n",
        "    \"wrong.bin\",\n",
        "    ]\n",
        "\n",
        "for embed in embed_paths:\n",
        "    load_learned_embed_in_clip(embed, text_encoder, tokenizer)"
      ],
      "metadata": {
        "id": "dG7OFslVxBM-"
      },
      "execution_count": null,
      "outputs": []
    },
    {
      "cell_type": "code",
      "execution_count": null,
      "metadata": {
        "id": "2yHAOsSvctgl"
      },
      "outputs": [],
      "source": [
        "pipe = StableDiffusionPipeline.from_pretrained(model_id_1, revision=\"fp16\", torch_dtype=torch.float16)\n",
        "pipe = pipe.to(\"cuda\")\n",
        "\n",
        "scheduler_2 = EulerAncestralDiscreteScheduler.from_pretrained(model_id_2, subfolder=\"scheduler\")\n",
        "pipe_2 = StableDiffusionPipeline.from_pretrained(model_id_2,\n",
        "                                               scheduler=scheduler_2,\n",
        "                                               text_encoder=text_encoder,\n",
        "                                               tokenizer=tokenizer,\n",
        "                                               revision=\"fp16\",\n",
        "                                               torch_dtype=torch.float16,\n",
        "                                               safety_checker=None)\n",
        "pipe_2 = pipe_2.to(\"cuda\")"
      ]
    },
    {
      "cell_type": "code",
      "execution_count": 18,
      "metadata": {
        "id": "PUq6oIDvcxw9"
      },
      "outputs": [],
      "source": [
        "all_prompts = [[\"Face of an intelligent person\"], [\"Face of a kind person\"], [\"Face of a wise person\"], [\"Face of someone who is hardworking\"], [\"Face of a passionate person\"]]\n",
        "negative_prompt = \"in the style of <wrong>, abstract, colorful accessories, weird accessories, wird sunglasses, colorful, simple, poster, letters, words, sculpture, weird proportions, weird materials, cropped hair, cropped chin, multiple people, more than one person, drawing, painting, one side of the face, deformed eyes, distorted eyes, blurry eyes, poorly drawn eyes, distorted mouth, cartoon, b&w, desfigured, blurry, oversaturated, cartoon, low-res, 3d, render, grainy, poorly drawn face, deformed, bad eye, cross eye, out of frame, mutation, mutated, extra limbs, face out of frame,  distorted, deformed, weird colors, jpg artefacts\"\n",
        "\n",
        "n_ims = 27"
      ]
    },
    {
      "cell_type": "code",
      "execution_count": null,
      "metadata": {
        "id": "1T_CDx9ic7Og"
      },
      "outputs": [],
      "source": [
        "gender_sd1 = []\n",
        "gender_sd2 = []\n",
        "for j in range(len(all_prompts)):\n",
        "  prompts = (all_prompts[1])\n",
        "  gender_1 = []\n",
        "  gender_2 = []\n",
        "  for i in range(len(prompts)):\n",
        "    sd1path, sd2path = \"/content/drive/MyDrive/GenderBias StableDiffusion/Code/media/sd1/\"+str(1)+\"/\"+str(i)+\".png\", \"/content/drive/MyDrive/GenderBias StableDiffusion/Code/media/sd2/\"+str(1)+\"/\"+str(i)+\".png\"\n",
        "    txt2img(prompts[i], negative_prompt, sd1path, sd2path)\n",
        "    gender_1 = im_gender_infer(sd1path, gender_1)\n",
        "    gender_2 = im_gender_infer(sd2path, gender_2)\n",
        "  gender_sd1.append(gender_1)\n",
        "  gender_sd2.append(gender_2)"
      ]
    },
    {
      "cell_type": "code",
      "source": [
        "# Gender count after manual revision\n",
        "\n",
        "sd1_0 = \"FFMMFMFFFMMFMFFFFFFFFMFMFMMMMFMMFMMMFMFMMFFMMFFMMF\"\n",
        "sd1_1 = \"FM0MMFF0M0FFFMFMF0FFMFFMFFMFFFMMMFFFFMFFMFFFFFFFMM\"\n",
        "sd1_2 = \"MMMMMFMMFMMMFMMFFMMMMFFMFMMMMMMMFFFFMMFFMMMMMMMMMF\"\n",
        "sd1_3 = \"FFMMFMFFFM0FFFFFFFFFFMFMFMMFFM0MF0FFFMMMMFMFMFMF0M\"\n",
        "sd1_4 = \"MFMFMMFMFMFFFFMFMFMMMFFMFMMF0MMMFMMFMMFMMFFMFFMMFF\"\n",
        "sd2_0 = \"MMMMMMMMMMMMMMMMFMMMMMMMMMMMMMMMMMMMMMMMMMMMMMMMMM\"\n",
        "sd2_1 = \"FFFMMMMFMMM0MFMMMM0MMFMMMMMMMMMMFF0MMMMMMMMMMFFMMM\"\n",
        "sd2_2 = \"MMMMMMMMMMMMMMMMMMMMMMMMMMMMMMMMMMMMMMMMMMMMMMMMMM\"\n",
        "sd2_3 = \"MFMMMMMMMMMMMMMMMMM0MMMMMMMMMMMFMMMMFMMMMMMMMMMMMM\"\n",
        "sd2_4 = \"MMMMMMFMMMFMMMMMMMM0MMFMMMMM0FMMMMMMMFMMMMMFFMMMMM\"\n",
        "\n",
        "gender_sd1 = [sd1_0, sd1_1, sd1_2, sd1_3, sd1_4]\n",
        "gender_sd2 = [sd2_0, sd2_1, sd2_2, sd2_3, sd2_4]"
      ],
      "metadata": {
        "id": "YqxXzV3iW0BH"
      },
      "execution_count": 23,
      "outputs": []
    },
    {
      "cell_type": "code",
      "source": [
        "Yfemale = []\n",
        "Zmale = []\n",
        "Yfemale_sd2 = []\n",
        "Zmale_sd2 = []\n",
        "for j in range(len(all_prompts)):\n",
        "  female_sd1 = gender_sd1[j].count('F')\n",
        "  male_sd1 = gender_sd1[j].count('M')\n",
        "  female_sd2 = gender_sd2[j].count('F')\n",
        "  male_sd2 = gender_sd2[j].count('M')\n",
        "  Yfemale.append(female_sd1)\n",
        "  Zmale.append(male_sd1)\n",
        "  Yfemale_sd2.append(female_sd2)\n",
        "  Zmale_sd2.append(male_sd2)\n",
        "print(Yfemale)\n",
        "print(Zmale)\n",
        "print(Yfemale_sd2)\n",
        "print(Zmale_sd2)"
      ],
      "metadata": {
        "id": "bSS-YBSMWpqR"
      },
      "execution_count": null,
      "outputs": []
    },
    {
      "cell_type": "code",
      "source": [
        "import numpy as np\n",
        "import matplotlib.pyplot as plt\n",
        "\n",
        "X = ['Intelligent', 'Kind', 'Wise', 'Hardworking', 'Passionate']\n",
        "X_axis = np.arange(len(X))\n",
        "\n",
        "plt.bar(X_axis - 0.2, Yfemale, 0.4, label = 'Female')\n",
        "plt.bar(X_axis + 0.2, Zmale, 0.4, label = 'Male')\n",
        "\n",
        "plt.xticks(X_axis, X)\n",
        "plt.xlabel(\"Prompts\")\n",
        "plt.ylabel(\"Gender count\")\n",
        "plt.title(\"Gender count StableDiffusion v1.5\")\n",
        "plt.legend()\n",
        "plt.show()\n",
        "\n"
      ],
      "metadata": {
        "id": "8vXvPBCGh9Kx",
        "colab": {
          "base_uri": "https://localhost:8080/",
          "height": 295
        },
        "outputId": "3d6b16e6-ac76-40e8-eea5-4e94fdfa0dff"
      },
      "execution_count": 25,
      "outputs": [
        {
          "output_type": "display_data",
          "data": {
            "text/plain": [
              "<Figure size 432x288 with 1 Axes>"
            ],
            "image/png": "[encoded data removed]"
          },
          "metadata": {
            "needs_background": "light"
          }
        }
      ]
    },
    {
      "cell_type": "code",
      "source": [
        "plt.bar(X_axis - 0.2, Yfemale_sd2, 0.4, label = 'Female')\n",
        "plt.bar(X_axis + 0.2, Zmale_sd2, 0.4, label = 'Male')\n",
        "\n",
        "plt.xticks(X_axis, X)\n",
        "plt.xlabel(\"Prompts\")\n",
        "plt.ylabel(\"Gender count\")\n",
        "plt.title(\"Gender count StableDiffusion v2\")\n",
        "plt.legend()\n",
        "plt.show()"
      ],
      "metadata": {
        "id": "BbWCjCY5jkZN",
        "colab": {
          "base_uri": "https://localhost:8080/",
          "height": 295
        },
        "outputId": "a34a5b20-db87-4f17-f65b-1eb9b536e3bb"
      },
      "execution_count": 26,
      "outputs": [
        {
          "output_type": "display_data",
          "data": {
            "text/plain": [
              "<Figure size 432x288 with 1 Axes>"
            ],
            "image/png": "[encoded data removed]"
          },
          "metadata": {
            "needs_background": "light"
          }
        }
      ]
    }
  ],
  "metadata": {
    "colab": {
      "provenance": []
    },
    "gpuClass": "standard",
    "kernelspec": {
      "display_name": "Python 3",
      "name": "python3"
    },
    "language_info": {
      "name": "python"
    },
    "accelerator": "GPU"
  },
  "nbformat": 4,
  "nbformat_minor": 0
}